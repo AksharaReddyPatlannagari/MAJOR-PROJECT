{
 "cells": [
  {
   "cell_type": "code",
   "execution_count": 1,
   "metadata": {},
   "outputs": [
    {
     "data": {
      "text/plain": [
       "Unnamed: 0                          0\n",
       "Time                                0\n",
       "Date                                0\n",
       "DC total voltage (v)              106\n",
       "DC total current(A)                 0\n",
       "AC total voltage (v)              106\n",
       "temp                                0\n",
       "dew                                 0\n",
       "humidity                            0\n",
       "precip                              0\n",
       "windgust                            0\n",
       "windspeed                           0\n",
       "winddir                             0\n",
       "sealevelpressure                    0\n",
       "cloudcover                          0\n",
       "visibility                          0\n",
       "solarradiation                      0\n",
       "Daily Generation (Active)(kWh)    106\n",
       "dtype: int64"
      ]
     },
     "execution_count": 1,
     "metadata": {},
     "output_type": "execute_result"
    }
   ],
   "source": [
    "import pandas as pd\n",
    "final=pd.read_csv(\"finalData.csv\")\n",
    "final.isnull().sum()"
   ]
  },
  {
   "cell_type": "code",
   "execution_count": 2,
   "metadata": {},
   "outputs": [
    {
     "data": {
      "text/html": [
       "<div>\n",
       "<style scoped>\n",
       "    .dataframe tbody tr th:only-of-type {\n",
       "        vertical-align: middle;\n",
       "    }\n",
       "\n",
       "    .dataframe tbody tr th {\n",
       "        vertical-align: top;\n",
       "    }\n",
       "\n",
       "    .dataframe thead th {\n",
       "        text-align: right;\n",
       "    }\n",
       "</style>\n",
       "<table border=\"1\" class=\"dataframe\">\n",
       "  <thead>\n",
       "    <tr style=\"text-align: right;\">\n",
       "      <th></th>\n",
       "      <th>Unnamed: 0</th>\n",
       "      <th>Time</th>\n",
       "      <th>Date</th>\n",
       "      <th>DC total voltage (v)</th>\n",
       "      <th>DC total current(A)</th>\n",
       "      <th>AC total voltage (v)</th>\n",
       "      <th>temp</th>\n",
       "      <th>dew</th>\n",
       "      <th>humidity</th>\n",
       "      <th>precip</th>\n",
       "      <th>windgust</th>\n",
       "      <th>windspeed</th>\n",
       "      <th>winddir</th>\n",
       "      <th>sealevelpressure</th>\n",
       "      <th>cloudcover</th>\n",
       "      <th>visibility</th>\n",
       "      <th>solarradiation</th>\n",
       "      <th>Daily Generation (Active)(kWh)</th>\n",
       "    </tr>\n",
       "  </thead>\n",
       "  <tbody>\n",
       "    <tr>\n",
       "      <th>325</th>\n",
       "      <td>325</td>\n",
       "      <td>0</td>\n",
       "      <td>146</td>\n",
       "      <td>NaN</td>\n",
       "      <td>0.0</td>\n",
       "      <td>NaN</td>\n",
       "      <td>26.0</td>\n",
       "      <td>18.0</td>\n",
       "      <td>61.39</td>\n",
       "      <td>0.0</td>\n",
       "      <td>33.5</td>\n",
       "      <td>13.0</td>\n",
       "      <td>265.0</td>\n",
       "      <td>1011.0</td>\n",
       "      <td>89.0</td>\n",
       "      <td>5.0</td>\n",
       "      <td>0</td>\n",
       "      <td>NaN</td>\n",
       "    </tr>\n",
       "    <tr>\n",
       "      <th>326</th>\n",
       "      <td>326</td>\n",
       "      <td>1</td>\n",
       "      <td>146</td>\n",
       "      <td>NaN</td>\n",
       "      <td>0.0</td>\n",
       "      <td>NaN</td>\n",
       "      <td>25.1</td>\n",
       "      <td>20.6</td>\n",
       "      <td>75.75</td>\n",
       "      <td>0.0</td>\n",
       "      <td>34.9</td>\n",
       "      <td>3.0</td>\n",
       "      <td>329.0</td>\n",
       "      <td>1011.0</td>\n",
       "      <td>55.7</td>\n",
       "      <td>5.0</td>\n",
       "      <td>3</td>\n",
       "      <td>NaN</td>\n",
       "    </tr>\n",
       "    <tr>\n",
       "      <th>327</th>\n",
       "      <td>327</td>\n",
       "      <td>2</td>\n",
       "      <td>146</td>\n",
       "      <td>NaN</td>\n",
       "      <td>0.0</td>\n",
       "      <td>NaN</td>\n",
       "      <td>27.8</td>\n",
       "      <td>20.3</td>\n",
       "      <td>63.58</td>\n",
       "      <td>0.0</td>\n",
       "      <td>33.8</td>\n",
       "      <td>6.9</td>\n",
       "      <td>268.0</td>\n",
       "      <td>1009.2</td>\n",
       "      <td>57.6</td>\n",
       "      <td>5.1</td>\n",
       "      <td>12</td>\n",
       "      <td>NaN</td>\n",
       "    </tr>\n",
       "    <tr>\n",
       "      <th>328</th>\n",
       "      <td>328</td>\n",
       "      <td>3</td>\n",
       "      <td>146</td>\n",
       "      <td>NaN</td>\n",
       "      <td>0.0</td>\n",
       "      <td>NaN</td>\n",
       "      <td>29.1</td>\n",
       "      <td>21.9</td>\n",
       "      <td>65.42</td>\n",
       "      <td>0.0</td>\n",
       "      <td>31.0</td>\n",
       "      <td>10.7</td>\n",
       "      <td>289.0</td>\n",
       "      <td>1012.0</td>\n",
       "      <td>50.0</td>\n",
       "      <td>6.0</td>\n",
       "      <td>94</td>\n",
       "      <td>NaN</td>\n",
       "    </tr>\n",
       "    <tr>\n",
       "      <th>595</th>\n",
       "      <td>595</td>\n",
       "      <td>10</td>\n",
       "      <td>166</td>\n",
       "      <td>NaN</td>\n",
       "      <td>0.0</td>\n",
       "      <td>NaN</td>\n",
       "      <td>28.4</td>\n",
       "      <td>23.1</td>\n",
       "      <td>72.75</td>\n",
       "      <td>0.0</td>\n",
       "      <td>9.4</td>\n",
       "      <td>5.8</td>\n",
       "      <td>270.0</td>\n",
       "      <td>1006.8</td>\n",
       "      <td>50.0</td>\n",
       "      <td>6.0</td>\n",
       "      <td>110</td>\n",
       "      <td>NaN</td>\n",
       "    </tr>\n",
       "    <tr>\n",
       "      <th>...</th>\n",
       "      <td>...</td>\n",
       "      <td>...</td>\n",
       "      <td>...</td>\n",
       "      <td>...</td>\n",
       "      <td>...</td>\n",
       "      <td>...</td>\n",
       "      <td>...</td>\n",
       "      <td>...</td>\n",
       "      <td>...</td>\n",
       "      <td>...</td>\n",
       "      <td>...</td>\n",
       "      <td>...</td>\n",
       "      <td>...</td>\n",
       "      <td>...</td>\n",
       "      <td>...</td>\n",
       "      <td>...</td>\n",
       "      <td>...</td>\n",
       "      <td>...</td>\n",
       "    </tr>\n",
       "    <tr>\n",
       "      <th>2911</th>\n",
       "      <td>2911</td>\n",
       "      <td>12</td>\n",
       "      <td>344</td>\n",
       "      <td>NaN</td>\n",
       "      <td>0.0</td>\n",
       "      <td>NaN</td>\n",
       "      <td>21.9</td>\n",
       "      <td>20.0</td>\n",
       "      <td>89.23</td>\n",
       "      <td>0.0</td>\n",
       "      <td>25.2</td>\n",
       "      <td>4.4</td>\n",
       "      <td>90.0</td>\n",
       "      <td>1013.8</td>\n",
       "      <td>100.0</td>\n",
       "      <td>4.7</td>\n",
       "      <td>35</td>\n",
       "      <td>NaN</td>\n",
       "    </tr>\n",
       "    <tr>\n",
       "      <th>2937</th>\n",
       "      <td>2937</td>\n",
       "      <td>12</td>\n",
       "      <td>346</td>\n",
       "      <td>NaN</td>\n",
       "      <td>0.0</td>\n",
       "      <td>NaN</td>\n",
       "      <td>22.9</td>\n",
       "      <td>19.9</td>\n",
       "      <td>83.21</td>\n",
       "      <td>0.0</td>\n",
       "      <td>18.7</td>\n",
       "      <td>5.0</td>\n",
       "      <td>90.0</td>\n",
       "      <td>1016.0</td>\n",
       "      <td>98.4</td>\n",
       "      <td>5.0</td>\n",
       "      <td>16</td>\n",
       "      <td>NaN</td>\n",
       "    </tr>\n",
       "    <tr>\n",
       "      <th>3119</th>\n",
       "      <td>3119</td>\n",
       "      <td>12</td>\n",
       "      <td>360</td>\n",
       "      <td>NaN</td>\n",
       "      <td>0.0</td>\n",
       "      <td>NaN</td>\n",
       "      <td>26.9</td>\n",
       "      <td>18.9</td>\n",
       "      <td>61.58</td>\n",
       "      <td>0.0</td>\n",
       "      <td>17.3</td>\n",
       "      <td>9.4</td>\n",
       "      <td>100.0</td>\n",
       "      <td>1017.0</td>\n",
       "      <td>27.7</td>\n",
       "      <td>6.0</td>\n",
       "      <td>95</td>\n",
       "      <td>NaN</td>\n",
       "    </tr>\n",
       "    <tr>\n",
       "      <th>3132</th>\n",
       "      <td>3132</td>\n",
       "      <td>12</td>\n",
       "      <td>361</td>\n",
       "      <td>NaN</td>\n",
       "      <td>0.0</td>\n",
       "      <td>NaN</td>\n",
       "      <td>26.1</td>\n",
       "      <td>17.0</td>\n",
       "      <td>57.14</td>\n",
       "      <td>0.0</td>\n",
       "      <td>8.6</td>\n",
       "      <td>5.7</td>\n",
       "      <td>47.0</td>\n",
       "      <td>1018.0</td>\n",
       "      <td>30.9</td>\n",
       "      <td>5.9</td>\n",
       "      <td>123</td>\n",
       "      <td>NaN</td>\n",
       "    </tr>\n",
       "    <tr>\n",
       "      <th>3237</th>\n",
       "      <td>3237</td>\n",
       "      <td>0</td>\n",
       "      <td>370</td>\n",
       "      <td>NaN</td>\n",
       "      <td>0.0</td>\n",
       "      <td>NaN</td>\n",
       "      <td>20.0</td>\n",
       "      <td>18.0</td>\n",
       "      <td>88.27</td>\n",
       "      <td>0.0</td>\n",
       "      <td>17.3</td>\n",
       "      <td>12.9</td>\n",
       "      <td>55.0</td>\n",
       "      <td>1020.0</td>\n",
       "      <td>50.0</td>\n",
       "      <td>2.0</td>\n",
       "      <td>0</td>\n",
       "      <td>NaN</td>\n",
       "    </tr>\n",
       "  </tbody>\n",
       "</table>\n",
       "<p>106 rows × 18 columns</p>\n",
       "</div>"
      ],
      "text/plain": [
       "      Unnamed: 0  Time  Date  DC total voltage (v)  DC total current(A)  \\\n",
       "325          325     0   146                   NaN                  0.0   \n",
       "326          326     1   146                   NaN                  0.0   \n",
       "327          327     2   146                   NaN                  0.0   \n",
       "328          328     3   146                   NaN                  0.0   \n",
       "595          595    10   166                   NaN                  0.0   \n",
       "...          ...   ...   ...                   ...                  ...   \n",
       "2911        2911    12   344                   NaN                  0.0   \n",
       "2937        2937    12   346                   NaN                  0.0   \n",
       "3119        3119    12   360                   NaN                  0.0   \n",
       "3132        3132    12   361                   NaN                  0.0   \n",
       "3237        3237     0   370                   NaN                  0.0   \n",
       "\n",
       "      AC total voltage (v)  temp   dew  humidity  precip  windgust  windspeed  \\\n",
       "325                    NaN  26.0  18.0     61.39     0.0      33.5       13.0   \n",
       "326                    NaN  25.1  20.6     75.75     0.0      34.9        3.0   \n",
       "327                    NaN  27.8  20.3     63.58     0.0      33.8        6.9   \n",
       "328                    NaN  29.1  21.9     65.42     0.0      31.0       10.7   \n",
       "595                    NaN  28.4  23.1     72.75     0.0       9.4        5.8   \n",
       "...                    ...   ...   ...       ...     ...       ...        ...   \n",
       "2911                   NaN  21.9  20.0     89.23     0.0      25.2        4.4   \n",
       "2937                   NaN  22.9  19.9     83.21     0.0      18.7        5.0   \n",
       "3119                   NaN  26.9  18.9     61.58     0.0      17.3        9.4   \n",
       "3132                   NaN  26.1  17.0     57.14     0.0       8.6        5.7   \n",
       "3237                   NaN  20.0  18.0     88.27     0.0      17.3       12.9   \n",
       "\n",
       "      winddir  sealevelpressure  cloudcover  visibility  solarradiation  \\\n",
       "325     265.0            1011.0        89.0         5.0               0   \n",
       "326     329.0            1011.0        55.7         5.0               3   \n",
       "327     268.0            1009.2        57.6         5.1              12   \n",
       "328     289.0            1012.0        50.0         6.0              94   \n",
       "595     270.0            1006.8        50.0         6.0             110   \n",
       "...       ...               ...         ...         ...             ...   \n",
       "2911     90.0            1013.8       100.0         4.7              35   \n",
       "2937     90.0            1016.0        98.4         5.0              16   \n",
       "3119    100.0            1017.0        27.7         6.0              95   \n",
       "3132     47.0            1018.0        30.9         5.9             123   \n",
       "3237     55.0            1020.0        50.0         2.0               0   \n",
       "\n",
       "      Daily Generation (Active)(kWh)  \n",
       "325                              NaN  \n",
       "326                              NaN  \n",
       "327                              NaN  \n",
       "328                              NaN  \n",
       "595                              NaN  \n",
       "...                              ...  \n",
       "2911                             NaN  \n",
       "2937                             NaN  \n",
       "3119                             NaN  \n",
       "3132                             NaN  \n",
       "3237                             NaN  \n",
       "\n",
       "[106 rows x 18 columns]"
      ]
     },
     "execution_count": 2,
     "metadata": {},
     "output_type": "execute_result"
    }
   ],
   "source": [
    "final[final['Daily Generation (Active)(kWh)'].isna()]"
   ]
  },
  {
   "cell_type": "code",
   "execution_count": 3,
   "metadata": {},
   "outputs": [],
   "source": [
    "final.dropna(inplace=True)"
   ]
  },
  {
   "cell_type": "code",
   "execution_count": 4,
   "metadata": {},
   "outputs": [
    {
     "data": {
      "text/html": [
       "<div>\n",
       "<style scoped>\n",
       "    .dataframe tbody tr th:only-of-type {\n",
       "        vertical-align: middle;\n",
       "    }\n",
       "\n",
       "    .dataframe tbody tr th {\n",
       "        vertical-align: top;\n",
       "    }\n",
       "\n",
       "    .dataframe thead th {\n",
       "        text-align: right;\n",
       "    }\n",
       "</style>\n",
       "<table border=\"1\" class=\"dataframe\">\n",
       "  <thead>\n",
       "    <tr style=\"text-align: right;\">\n",
       "      <th></th>\n",
       "      <th>Unnamed: 0</th>\n",
       "      <th>Time</th>\n",
       "      <th>Date</th>\n",
       "      <th>DC total voltage (v)</th>\n",
       "      <th>DC total current(A)</th>\n",
       "      <th>AC total voltage (v)</th>\n",
       "      <th>temp</th>\n",
       "      <th>dew</th>\n",
       "      <th>humidity</th>\n",
       "      <th>precip</th>\n",
       "      <th>windgust</th>\n",
       "      <th>windspeed</th>\n",
       "      <th>winddir</th>\n",
       "      <th>sealevelpressure</th>\n",
       "      <th>cloudcover</th>\n",
       "      <th>visibility</th>\n",
       "      <th>solarradiation</th>\n",
       "      <th>Daily Generation (Active)(kWh)</th>\n",
       "    </tr>\n",
       "  </thead>\n",
       "  <tbody>\n",
       "    <tr>\n",
       "      <th>0</th>\n",
       "      <td>0</td>\n",
       "      <td>0</td>\n",
       "      <td>121</td>\n",
       "      <td>2051.533333</td>\n",
       "      <td>23.6</td>\n",
       "      <td>708.316667</td>\n",
       "      <td>29.0</td>\n",
       "      <td>19.0</td>\n",
       "      <td>54.83</td>\n",
       "      <td>0.0</td>\n",
       "      <td>22.3</td>\n",
       "      <td>15.6</td>\n",
       "      <td>220.0</td>\n",
       "      <td>1009.0</td>\n",
       "      <td>50.0</td>\n",
       "      <td>5.0</td>\n",
       "      <td>0</td>\n",
       "      <td>0.9</td>\n",
       "    </tr>\n",
       "    <tr>\n",
       "      <th>1</th>\n",
       "      <td>1</td>\n",
       "      <td>1</td>\n",
       "      <td>121</td>\n",
       "      <td>2563.754545</td>\n",
       "      <td>83.7</td>\n",
       "      <td>707.018182</td>\n",
       "      <td>29.0</td>\n",
       "      <td>20.9</td>\n",
       "      <td>61.51</td>\n",
       "      <td>0.0</td>\n",
       "      <td>18.7</td>\n",
       "      <td>9.3</td>\n",
       "      <td>256.0</td>\n",
       "      <td>1010.0</td>\n",
       "      <td>83.4</td>\n",
       "      <td>5.9</td>\n",
       "      <td>22</td>\n",
       "      <td>5.3</td>\n",
       "    </tr>\n",
       "    <tr>\n",
       "      <th>2</th>\n",
       "      <td>2</td>\n",
       "      <td>2</td>\n",
       "      <td>121</td>\n",
       "      <td>2534.466667</td>\n",
       "      <td>194.8</td>\n",
       "      <td>711.100000</td>\n",
       "      <td>30.7</td>\n",
       "      <td>20.8</td>\n",
       "      <td>55.32</td>\n",
       "      <td>0.0</td>\n",
       "      <td>16.2</td>\n",
       "      <td>9.1</td>\n",
       "      <td>265.0</td>\n",
       "      <td>1007.1</td>\n",
       "      <td>60.3</td>\n",
       "      <td>7.9</td>\n",
       "      <td>159</td>\n",
       "      <td>15.3</td>\n",
       "    </tr>\n",
       "    <tr>\n",
       "      <th>3</th>\n",
       "      <td>3</td>\n",
       "      <td>3</td>\n",
       "      <td>121</td>\n",
       "      <td>2459.145455</td>\n",
       "      <td>259.4</td>\n",
       "      <td>700.600000</td>\n",
       "      <td>32.1</td>\n",
       "      <td>19.3</td>\n",
       "      <td>46.84</td>\n",
       "      <td>0.0</td>\n",
       "      <td>17.3</td>\n",
       "      <td>10.4</td>\n",
       "      <td>285.0</td>\n",
       "      <td>1011.0</td>\n",
       "      <td>83.4</td>\n",
       "      <td>6.0</td>\n",
       "      <td>457</td>\n",
       "      <td>28.7</td>\n",
       "    </tr>\n",
       "    <tr>\n",
       "      <th>4</th>\n",
       "      <td>4</td>\n",
       "      <td>4</td>\n",
       "      <td>121</td>\n",
       "      <td>2464.709091</td>\n",
       "      <td>241.9</td>\n",
       "      <td>685.054545</td>\n",
       "      <td>33.1</td>\n",
       "      <td>18.2</td>\n",
       "      <td>41.40</td>\n",
       "      <td>0.0</td>\n",
       "      <td>19.4</td>\n",
       "      <td>8.0</td>\n",
       "      <td>270.0</td>\n",
       "      <td>1010.0</td>\n",
       "      <td>50.0</td>\n",
       "      <td>6.0</td>\n",
       "      <td>607</td>\n",
       "      <td>41.5</td>\n",
       "    </tr>\n",
       "    <tr>\n",
       "      <th>...</th>\n",
       "      <td>...</td>\n",
       "      <td>...</td>\n",
       "      <td>...</td>\n",
       "      <td>...</td>\n",
       "      <td>...</td>\n",
       "      <td>...</td>\n",
       "      <td>...</td>\n",
       "      <td>...</td>\n",
       "      <td>...</td>\n",
       "      <td>...</td>\n",
       "      <td>...</td>\n",
       "      <td>...</td>\n",
       "      <td>...</td>\n",
       "      <td>...</td>\n",
       "      <td>...</td>\n",
       "      <td>...</td>\n",
       "      <td>...</td>\n",
       "      <td>...</td>\n",
       "    </tr>\n",
       "    <tr>\n",
       "      <th>3570</th>\n",
       "      <td>3570</td>\n",
       "      <td>8</td>\n",
       "      <td>395</td>\n",
       "      <td>2534.533333</td>\n",
       "      <td>217.3</td>\n",
       "      <td>693.775000</td>\n",
       "      <td>29.3</td>\n",
       "      <td>14.0</td>\n",
       "      <td>39.18</td>\n",
       "      <td>0.0</td>\n",
       "      <td>12.6</td>\n",
       "      <td>11.3</td>\n",
       "      <td>82.0</td>\n",
       "      <td>1011.8</td>\n",
       "      <td>58.6</td>\n",
       "      <td>7.3</td>\n",
       "      <td>856</td>\n",
       "      <td>87.9</td>\n",
       "    </tr>\n",
       "    <tr>\n",
       "      <th>3571</th>\n",
       "      <td>3571</td>\n",
       "      <td>9</td>\n",
       "      <td>395</td>\n",
       "      <td>2560.966667</td>\n",
       "      <td>155.5</td>\n",
       "      <td>680.283333</td>\n",
       "      <td>28.9</td>\n",
       "      <td>13.3</td>\n",
       "      <td>38.42</td>\n",
       "      <td>0.0</td>\n",
       "      <td>11.2</td>\n",
       "      <td>13.4</td>\n",
       "      <td>86.0</td>\n",
       "      <td>1013.2</td>\n",
       "      <td>30.9</td>\n",
       "      <td>5.0</td>\n",
       "      <td>772</td>\n",
       "      <td>95.9</td>\n",
       "    </tr>\n",
       "    <tr>\n",
       "      <th>3572</th>\n",
       "      <td>3572</td>\n",
       "      <td>10</td>\n",
       "      <td>395</td>\n",
       "      <td>2578.127273</td>\n",
       "      <td>55.8</td>\n",
       "      <td>683.236364</td>\n",
       "      <td>28.9</td>\n",
       "      <td>13.3</td>\n",
       "      <td>38.42</td>\n",
       "      <td>0.0</td>\n",
       "      <td>11.5</td>\n",
       "      <td>11.7</td>\n",
       "      <td>71.0</td>\n",
       "      <td>1013.2</td>\n",
       "      <td>30.9</td>\n",
       "      <td>5.0</td>\n",
       "      <td>484</td>\n",
       "      <td>99.0</td>\n",
       "    </tr>\n",
       "    <tr>\n",
       "      <th>3573</th>\n",
       "      <td>3573</td>\n",
       "      <td>11</td>\n",
       "      <td>395</td>\n",
       "      <td>2434.925000</td>\n",
       "      <td>19.8</td>\n",
       "      <td>696.691667</td>\n",
       "      <td>28.3</td>\n",
       "      <td>14.2</td>\n",
       "      <td>41.95</td>\n",
       "      <td>0.0</td>\n",
       "      <td>13.0</td>\n",
       "      <td>1.8</td>\n",
       "      <td>81.0</td>\n",
       "      <td>1011.7</td>\n",
       "      <td>68.5</td>\n",
       "      <td>7.3</td>\n",
       "      <td>209</td>\n",
       "      <td>100.0</td>\n",
       "    </tr>\n",
       "    <tr>\n",
       "      <th>3574</th>\n",
       "      <td>3574</td>\n",
       "      <td>12</td>\n",
       "      <td>395</td>\n",
       "      <td>1442.350000</td>\n",
       "      <td>2.4</td>\n",
       "      <td>699.616667</td>\n",
       "      <td>26.9</td>\n",
       "      <td>15.1</td>\n",
       "      <td>48.44</td>\n",
       "      <td>0.0</td>\n",
       "      <td>13.0</td>\n",
       "      <td>8.1</td>\n",
       "      <td>99.0</td>\n",
       "      <td>1014.0</td>\n",
       "      <td>50.0</td>\n",
       "      <td>5.0</td>\n",
       "      <td>59</td>\n",
       "      <td>100.0</td>\n",
       "    </tr>\n",
       "  </tbody>\n",
       "</table>\n",
       "<p>3469 rows × 18 columns</p>\n",
       "</div>"
      ],
      "text/plain": [
       "      Unnamed: 0  Time  Date  DC total voltage (v)  DC total current(A)  \\\n",
       "0              0     0   121           2051.533333                 23.6   \n",
       "1              1     1   121           2563.754545                 83.7   \n",
       "2              2     2   121           2534.466667                194.8   \n",
       "3              3     3   121           2459.145455                259.4   \n",
       "4              4     4   121           2464.709091                241.9   \n",
       "...          ...   ...   ...                   ...                  ...   \n",
       "3570        3570     8   395           2534.533333                217.3   \n",
       "3571        3571     9   395           2560.966667                155.5   \n",
       "3572        3572    10   395           2578.127273                 55.8   \n",
       "3573        3573    11   395           2434.925000                 19.8   \n",
       "3574        3574    12   395           1442.350000                  2.4   \n",
       "\n",
       "      AC total voltage (v)  temp   dew  humidity  precip  windgust  windspeed  \\\n",
       "0               708.316667  29.0  19.0     54.83     0.0      22.3       15.6   \n",
       "1               707.018182  29.0  20.9     61.51     0.0      18.7        9.3   \n",
       "2               711.100000  30.7  20.8     55.32     0.0      16.2        9.1   \n",
       "3               700.600000  32.1  19.3     46.84     0.0      17.3       10.4   \n",
       "4               685.054545  33.1  18.2     41.40     0.0      19.4        8.0   \n",
       "...                    ...   ...   ...       ...     ...       ...        ...   \n",
       "3570            693.775000  29.3  14.0     39.18     0.0      12.6       11.3   \n",
       "3571            680.283333  28.9  13.3     38.42     0.0      11.2       13.4   \n",
       "3572            683.236364  28.9  13.3     38.42     0.0      11.5       11.7   \n",
       "3573            696.691667  28.3  14.2     41.95     0.0      13.0        1.8   \n",
       "3574            699.616667  26.9  15.1     48.44     0.0      13.0        8.1   \n",
       "\n",
       "      winddir  sealevelpressure  cloudcover  visibility  solarradiation  \\\n",
       "0       220.0            1009.0        50.0         5.0               0   \n",
       "1       256.0            1010.0        83.4         5.9              22   \n",
       "2       265.0            1007.1        60.3         7.9             159   \n",
       "3       285.0            1011.0        83.4         6.0             457   \n",
       "4       270.0            1010.0        50.0         6.0             607   \n",
       "...       ...               ...         ...         ...             ...   \n",
       "3570     82.0            1011.8        58.6         7.3             856   \n",
       "3571     86.0            1013.2        30.9         5.0             772   \n",
       "3572     71.0            1013.2        30.9         5.0             484   \n",
       "3573     81.0            1011.7        68.5         7.3             209   \n",
       "3574     99.0            1014.0        50.0         5.0              59   \n",
       "\n",
       "      Daily Generation (Active)(kWh)  \n",
       "0                                0.9  \n",
       "1                                5.3  \n",
       "2                               15.3  \n",
       "3                               28.7  \n",
       "4                               41.5  \n",
       "...                              ...  \n",
       "3570                            87.9  \n",
       "3571                            95.9  \n",
       "3572                            99.0  \n",
       "3573                           100.0  \n",
       "3574                           100.0  \n",
       "\n",
       "[3469 rows x 18 columns]"
      ]
     },
     "execution_count": 4,
     "metadata": {},
     "output_type": "execute_result"
    }
   ],
   "source": [
    "final"
   ]
  },
  {
   "cell_type": "code",
   "execution_count": 5,
   "metadata": {},
   "outputs": [],
   "source": [
    "final.drop('Unnamed: 0',axis=1,inplace=True)"
   ]
  },
  {
   "cell_type": "code",
   "execution_count": 6,
   "metadata": {},
   "outputs": [
    {
     "data": {
      "text/plain": [
       "Time                              0\n",
       "Date                              0\n",
       "DC total voltage (v)              0\n",
       "DC total current(A)               0\n",
       "AC total voltage (v)              0\n",
       "temp                              0\n",
       "dew                               0\n",
       "humidity                          0\n",
       "precip                            0\n",
       "windgust                          0\n",
       "windspeed                         0\n",
       "winddir                           0\n",
       "sealevelpressure                  0\n",
       "cloudcover                        0\n",
       "visibility                        0\n",
       "solarradiation                    0\n",
       "Daily Generation (Active)(kWh)    0\n",
       "dtype: int64"
      ]
     },
     "execution_count": 6,
     "metadata": {},
     "output_type": "execute_result"
    }
   ],
   "source": [
    "final.isnull().sum()"
   ]
  },
  {
   "cell_type": "code",
   "execution_count": 7,
   "metadata": {},
   "outputs": [],
   "source": [
    "final.rename(columns = {'Date':'no_of_days'}, inplace = True)"
   ]
  },
  {
   "cell_type": "code",
   "execution_count": 8,
   "metadata": {},
   "outputs": [],
   "source": [
    "X = final.copy()\n",
    "y = X.pop(\"Daily Generation (Active)(kWh)\")\n",
    "\n",
    "# All discrete features should now have integer dtypes (double-check this before using MI!)\n",
    "discrete_features = X.dtypes == int"
   ]
  },
  {
   "attachments": {},
   "cell_type": "markdown",
   "metadata": {},
   "source": [
    "# Fitting model"
   ]
  },
  {
   "cell_type": "code",
   "execution_count": 9,
   "metadata": {},
   "outputs": [],
   "source": [
    "X=final.drop('Daily Generation (Active)(kWh)',axis=1)\n",
    "Y=final['Daily Generation (Active)(kWh)']"
   ]
  },
  {
   "cell_type": "code",
   "execution_count": 10,
   "metadata": {},
   "outputs": [],
   "source": [
    "from sklearn.model_selection import train_test_split\n",
    "x_train,x_test,y_train,y_test=train_test_split(X,Y,shuffle=False)"
   ]
  },
  {
   "cell_type": "code",
   "execution_count": 11,
   "metadata": {},
   "outputs": [
    {
     "data": {
      "text/plain": [
       "Index(['Time', 'no_of_days', 'DC total voltage (v)', 'DC total current(A)',\n",
       "       'AC total voltage (v)', 'temp', 'dew', 'humidity', 'precip', 'windgust',\n",
       "       'windspeed', 'winddir', 'sealevelpressure', 'cloudcover', 'visibility',\n",
       "       'solarradiation'],\n",
       "      dtype='object')"
      ]
     },
     "execution_count": 11,
     "metadata": {},
     "output_type": "execute_result"
    }
   ],
   "source": [
    "X.columns"
   ]
  },
  {
   "attachments": {},
   "cell_type": "markdown",
   "metadata": {},
   "source": [
    "## Hybrid Model"
   ]
  },
  {
   "cell_type": "code",
   "execution_count": 12,
   "metadata": {},
   "outputs": [],
   "source": [
    "from sklearn.cluster import KMeans\n",
    "kmeans=KMeans(n_clusters=5)\n",
    "x_train[\"Cluster\"]=kmeans.fit_predict(x_train[['temp', 'dew', 'humidity', 'winddir',\n",
    "       'cloudcover', 'visibility','solarradiation']])"
   ]
  },
  {
   "cell_type": "code",
   "execution_count": 13,
   "metadata": {},
   "outputs": [],
   "source": [
    "x_test[\"Cluster\"]=kmeans.fit_predict(x_test[['temp', 'dew', 'humidity', 'winddir',\n",
    "       'cloudcover', 'visibility']])"
   ]
  },
  {
   "cell_type": "code",
   "execution_count": 14,
   "metadata": {},
   "outputs": [],
   "source": [
    "import matplotlib.pyplot as plt"
   ]
  },
  {
   "cell_type": "code",
   "execution_count": 15,
   "metadata": {},
   "outputs": [
    {
     "data": {
      "text/plain": [
       "<matplotlib.collections.PathCollection at 0x20e7fc668c0>"
      ]
     },
     "execution_count": 15,
     "metadata": {},
     "output_type": "execute_result"
    },
    {
     "data": {
      "image/png": "[encoded data removed]",
      "text/plain": [
       "<Figure size 640x480 with 1 Axes>"
      ]
     },
     "metadata": {},
     "output_type": "display_data"
    }
   ],
   "source": [
    "f1=x_train[x_train.Cluster==0]\n",
    "f2=x_train[x_train.Cluster==1]\n",
    "f3=x_train[x_train.Cluster==2]\n",
    "\n",
    "plt.scatter(f1.humidity,f1.visibility,color='green')\n",
    "plt.scatter(f2.humidity,f2.visibility,color='red')\n",
    "plt.scatter(f3.humidity,f3.visibility,color='blue')"
   ]
  },
  {
   "cell_type": "code",
   "execution_count": 16,
   "metadata": {},
   "outputs": [
    {
     "data": {
      "text/plain": [
       "<matplotlib.collections.PathCollection at 0x20e7fd99300>"
      ]
     },
     "execution_count": 16,
     "metadata": {},
     "output_type": "execute_result"
    },
    {
     "data": {
      "image/png": "[encoded data removed]",
      "text/plain": [
       "<Figure size 640x480 with 1 Axes>"
      ]
     },
     "metadata": {},
     "output_type": "display_data"
    }
   ],
   "source": [
    "t1=x_test[x_test.Cluster==0]\n",
    "t2=x_test[x_test.Cluster==1]\n",
    "t3=x_test[x_test.Cluster==2]\n",
    "\n",
    "plt.scatter(t1.humidity,t1.visibility,color='green')\n",
    "plt.scatter(t2.humidity,t2.visibility,color='red')\n",
    "plt.scatter(t3.humidity,t3.visibility,color='blue')"
   ]
  },
  {
   "cell_type": "code",
   "execution_count": 17,
   "metadata": {},
   "outputs": [],
   "source": [
    "x_train=x_train.drop(['temp', 'dew', 'humidity', 'winddir','cloudcover', 'visibility'],axis=1)\n",
    "x_test=x_test.drop(['temp', 'dew', 'humidity', 'winddir','cloudcover', 'visibility'],axis=1)"
   ]
  },
  {
   "cell_type": "code",
   "execution_count": 18,
   "metadata": {},
   "outputs": [
    {
     "data": {
      "text/html": [
       "<div>\n",
       "<style scoped>\n",
       "    .dataframe tbody tr th:only-of-type {\n",
       "        vertical-align: middle;\n",
       "    }\n",
       "\n",
       "    .dataframe tbody tr th {\n",
       "        vertical-align: top;\n",
       "    }\n",
       "\n",
       "    .dataframe thead th {\n",
       "        text-align: right;\n",
       "    }\n",
       "</style>\n",
       "<table border=\"1\" class=\"dataframe\">\n",
       "  <thead>\n",
       "    <tr style=\"text-align: right;\">\n",
       "      <th></th>\n",
       "      <th>Time</th>\n",
       "      <th>no_of_days</th>\n",
       "      <th>DC total voltage (v)</th>\n",
       "      <th>DC total current(A)</th>\n",
       "      <th>AC total voltage (v)</th>\n",
       "      <th>precip</th>\n",
       "      <th>windgust</th>\n",
       "      <th>windspeed</th>\n",
       "      <th>sealevelpressure</th>\n",
       "      <th>solarradiation</th>\n",
       "      <th>Cluster</th>\n",
       "    </tr>\n",
       "  </thead>\n",
       "  <tbody>\n",
       "    <tr>\n",
       "      <th>2679</th>\n",
       "      <td>1</td>\n",
       "      <td>327</td>\n",
       "      <td>2628.408333</td>\n",
       "      <td>30.8</td>\n",
       "      <td>687.050000</td>\n",
       "      <td>0.0</td>\n",
       "      <td>10.1</td>\n",
       "      <td>6.2</td>\n",
       "      <td>1016.0</td>\n",
       "      <td>0</td>\n",
       "      <td>0</td>\n",
       "    </tr>\n",
       "    <tr>\n",
       "      <th>2680</th>\n",
       "      <td>2</td>\n",
       "      <td>327</td>\n",
       "      <td>2730.254545</td>\n",
       "      <td>100.6</td>\n",
       "      <td>686.490909</td>\n",
       "      <td>0.0</td>\n",
       "      <td>9.7</td>\n",
       "      <td>6.9</td>\n",
       "      <td>1015.3</td>\n",
       "      <td>67</td>\n",
       "      <td>0</td>\n",
       "    </tr>\n",
       "    <tr>\n",
       "      <th>2681</th>\n",
       "      <td>3</td>\n",
       "      <td>327</td>\n",
       "      <td>2647.166667</td>\n",
       "      <td>175.1</td>\n",
       "      <td>701.458333</td>\n",
       "      <td>0.0</td>\n",
       "      <td>11.9</td>\n",
       "      <td>13.1</td>\n",
       "      <td>1017.0</td>\n",
       "      <td>279</td>\n",
       "      <td>0</td>\n",
       "    </tr>\n",
       "    <tr>\n",
       "      <th>2682</th>\n",
       "      <td>4</td>\n",
       "      <td>327</td>\n",
       "      <td>2648.284615</td>\n",
       "      <td>160.9</td>\n",
       "      <td>696.261538</td>\n",
       "      <td>0.0</td>\n",
       "      <td>11.2</td>\n",
       "      <td>11.5</td>\n",
       "      <td>1017.0</td>\n",
       "      <td>485</td>\n",
       "      <td>0</td>\n",
       "    </tr>\n",
       "    <tr>\n",
       "      <th>2683</th>\n",
       "      <td>5</td>\n",
       "      <td>327</td>\n",
       "      <td>2633.581818</td>\n",
       "      <td>139.2</td>\n",
       "      <td>698.881818</td>\n",
       "      <td>0.0</td>\n",
       "      <td>9.0</td>\n",
       "      <td>8.2</td>\n",
       "      <td>1015.0</td>\n",
       "      <td>652</td>\n",
       "      <td>0</td>\n",
       "    </tr>\n",
       "    <tr>\n",
       "      <th>...</th>\n",
       "      <td>...</td>\n",
       "      <td>...</td>\n",
       "      <td>...</td>\n",
       "      <td>...</td>\n",
       "      <td>...</td>\n",
       "      <td>...</td>\n",
       "      <td>...</td>\n",
       "      <td>...</td>\n",
       "      <td>...</td>\n",
       "      <td>...</td>\n",
       "      <td>...</td>\n",
       "    </tr>\n",
       "    <tr>\n",
       "      <th>3570</th>\n",
       "      <td>8</td>\n",
       "      <td>395</td>\n",
       "      <td>2534.533333</td>\n",
       "      <td>217.3</td>\n",
       "      <td>693.775000</td>\n",
       "      <td>0.0</td>\n",
       "      <td>12.6</td>\n",
       "      <td>11.3</td>\n",
       "      <td>1011.8</td>\n",
       "      <td>856</td>\n",
       "      <td>0</td>\n",
       "    </tr>\n",
       "    <tr>\n",
       "      <th>3571</th>\n",
       "      <td>9</td>\n",
       "      <td>395</td>\n",
       "      <td>2560.966667</td>\n",
       "      <td>155.5</td>\n",
       "      <td>680.283333</td>\n",
       "      <td>0.0</td>\n",
       "      <td>11.2</td>\n",
       "      <td>13.4</td>\n",
       "      <td>1013.2</td>\n",
       "      <td>772</td>\n",
       "      <td>3</td>\n",
       "    </tr>\n",
       "    <tr>\n",
       "      <th>3572</th>\n",
       "      <td>10</td>\n",
       "      <td>395</td>\n",
       "      <td>2578.127273</td>\n",
       "      <td>55.8</td>\n",
       "      <td>683.236364</td>\n",
       "      <td>0.0</td>\n",
       "      <td>11.5</td>\n",
       "      <td>11.7</td>\n",
       "      <td>1013.2</td>\n",
       "      <td>484</td>\n",
       "      <td>3</td>\n",
       "    </tr>\n",
       "    <tr>\n",
       "      <th>3573</th>\n",
       "      <td>11</td>\n",
       "      <td>395</td>\n",
       "      <td>2434.925000</td>\n",
       "      <td>19.8</td>\n",
       "      <td>696.691667</td>\n",
       "      <td>0.0</td>\n",
       "      <td>13.0</td>\n",
       "      <td>1.8</td>\n",
       "      <td>1011.7</td>\n",
       "      <td>209</td>\n",
       "      <td>0</td>\n",
       "    </tr>\n",
       "    <tr>\n",
       "      <th>3574</th>\n",
       "      <td>12</td>\n",
       "      <td>395</td>\n",
       "      <td>1442.350000</td>\n",
       "      <td>2.4</td>\n",
       "      <td>699.616667</td>\n",
       "      <td>0.0</td>\n",
       "      <td>13.0</td>\n",
       "      <td>8.1</td>\n",
       "      <td>1014.0</td>\n",
       "      <td>59</td>\n",
       "      <td>0</td>\n",
       "    </tr>\n",
       "  </tbody>\n",
       "</table>\n",
       "<p>868 rows × 11 columns</p>\n",
       "</div>"
      ],
      "text/plain": [
       "      Time  no_of_days  DC total voltage (v)  DC total current(A)  \\\n",
       "2679     1         327           2628.408333                 30.8   \n",
       "2680     2         327           2730.254545                100.6   \n",
       "2681     3         327           2647.166667                175.1   \n",
       "2682     4         327           2648.284615                160.9   \n",
       "2683     5         327           2633.581818                139.2   \n",
       "...    ...         ...                   ...                  ...   \n",
       "3570     8         395           2534.533333                217.3   \n",
       "3571     9         395           2560.966667                155.5   \n",
       "3572    10         395           2578.127273                 55.8   \n",
       "3573    11         395           2434.925000                 19.8   \n",
       "3574    12         395           1442.350000                  2.4   \n",
       "\n",
       "      AC total voltage (v)  precip  windgust  windspeed  sealevelpressure  \\\n",
       "2679            687.050000     0.0      10.1        6.2            1016.0   \n",
       "2680            686.490909     0.0       9.7        6.9            1015.3   \n",
       "2681            701.458333     0.0      11.9       13.1            1017.0   \n",
       "2682            696.261538     0.0      11.2       11.5            1017.0   \n",
       "2683            698.881818     0.0       9.0        8.2            1015.0   \n",
       "...                    ...     ...       ...        ...               ...   \n",
       "3570            693.775000     0.0      12.6       11.3            1011.8   \n",
       "3571            680.283333     0.0      11.2       13.4            1013.2   \n",
       "3572            683.236364     0.0      11.5       11.7            1013.2   \n",
       "3573            696.691667     0.0      13.0        1.8            1011.7   \n",
       "3574            699.616667     0.0      13.0        8.1            1014.0   \n",
       "\n",
       "      solarradiation  Cluster  \n",
       "2679               0        0  \n",
       "2680              67        0  \n",
       "2681             279        0  \n",
       "2682             485        0  \n",
       "2683             652        0  \n",
       "...              ...      ...  \n",
       "3570             856        0  \n",
       "3571             772        3  \n",
       "3572             484        3  \n",
       "3573             209        0  \n",
       "3574              59        0  \n",
       "\n",
       "[868 rows x 11 columns]"
      ]
     },
     "execution_count": 18,
     "metadata": {},
     "output_type": "execute_result"
    }
   ],
   "source": [
    "x_train\n",
    "x_test"
   ]
  },
  {
   "cell_type": "markdown",
   "metadata": {},
   "source": [
    "## Linear regression"
   ]
  },
  {
   "cell_type": "code",
   "execution_count": 19,
   "metadata": {},
   "outputs": [],
   "source": [
    "from sklearn.linear_model import LinearRegression\n",
    "l=LinearRegression()\n",
    "l.fit(x_train,y_train)\n",
    "y_predict=l.predict(x_test)"
   ]
  },
  {
   "cell_type": "code",
   "execution_count": 20,
   "metadata": {},
   "outputs": [
    {
     "data": {
      "text/plain": [
       "278.57568029509423"
      ]
     },
     "execution_count": 20,
     "metadata": {},
     "output_type": "execute_result"
    }
   ],
   "source": [
    "from sklearn.metrics import mean_squared_error\n",
    "mse_lr=mean_squared_error(y_true=y_test,y_pred=y_predict)\n",
    "mse_lr"
   ]
  },
  {
   "cell_type": "code",
   "execution_count": 21,
   "metadata": {},
   "outputs": [
    {
     "data": {
      "text/plain": [
       "16.690586577322385"
      ]
     },
     "execution_count": 21,
     "metadata": {},
     "output_type": "execute_result"
    }
   ],
   "source": [
    "import math\n",
    "rmse_lr=math.sqrt(mse_lr)\n",
    "rmse_lr"
   ]
  },
  {
   "cell_type": "code",
   "execution_count": 22,
   "metadata": {},
   "outputs": [
    {
     "name": "stdout",
     "output_type": "stream",
     "text": [
      "0.8490033533172057\n"
     ]
    }
   ],
   "source": [
    "from sklearn.metrics import r2_score\n",
    "r2_lr=r2_score(y_true=y_test,y_pred=y_predict)\n",
    "print(r2_lr)"
   ]
  },
  {
   "cell_type": "code",
   "execution_count": 23,
   "metadata": {},
   "outputs": [
    {
     "data": {
      "text/plain": [
       "(868, 11)"
      ]
     },
     "execution_count": 23,
     "metadata": {},
     "output_type": "execute_result"
    }
   ],
   "source": [
    "x_test.shape"
   ]
  },
  {
   "cell_type": "code",
   "execution_count": 24,
   "metadata": {},
   "outputs": [
    {
     "data": {
      "text/plain": [
       "(868,)"
      ]
     },
     "execution_count": 24,
     "metadata": {},
     "output_type": "execute_result"
    }
   ],
   "source": [
    "y_test.shape"
   ]
  },
  {
   "cell_type": "code",
   "execution_count": 25,
   "metadata": {},
   "outputs": [
    {
     "data": {
      "text/plain": [
       "(868,)"
      ]
     },
     "execution_count": 25,
     "metadata": {},
     "output_type": "execute_result"
    }
   ],
   "source": [
    "y_predict.shape"
   ]
  },
  {
   "cell_type": "code",
   "execution_count": 26,
   "metadata": {},
   "outputs": [
    {
     "data": {
      "text/html": [
       "<div>\n",
       "<style scoped>\n",
       "    .dataframe tbody tr th:only-of-type {\n",
       "        vertical-align: middle;\n",
       "    }\n",
       "\n",
       "    .dataframe tbody tr th {\n",
       "        vertical-align: top;\n",
       "    }\n",
       "\n",
       "    .dataframe thead th {\n",
       "        text-align: right;\n",
       "    }\n",
       "</style>\n",
       "<table border=\"1\" class=\"dataframe\">\n",
       "  <thead>\n",
       "    <tr style=\"text-align: right;\">\n",
       "      <th></th>\n",
       "      <th>Time</th>\n",
       "      <th>no_of_days</th>\n",
       "      <th>DC total voltage (v)</th>\n",
       "      <th>DC total current(A)</th>\n",
       "      <th>AC total voltage (v)</th>\n",
       "      <th>precip</th>\n",
       "      <th>windgust</th>\n",
       "      <th>windspeed</th>\n",
       "      <th>sealevelpressure</th>\n",
       "      <th>solarradiation</th>\n",
       "      <th>Cluster</th>\n",
       "    </tr>\n",
       "  </thead>\n",
       "  <tbody>\n",
       "    <tr>\n",
       "      <th>2679</th>\n",
       "      <td>1</td>\n",
       "      <td>327</td>\n",
       "      <td>2628.408333</td>\n",
       "      <td>30.8</td>\n",
       "      <td>687.050000</td>\n",
       "      <td>0.0</td>\n",
       "      <td>10.1</td>\n",
       "      <td>6.2</td>\n",
       "      <td>1016.0</td>\n",
       "      <td>0</td>\n",
       "      <td>0</td>\n",
       "    </tr>\n",
       "    <tr>\n",
       "      <th>2680</th>\n",
       "      <td>2</td>\n",
       "      <td>327</td>\n",
       "      <td>2730.254545</td>\n",
       "      <td>100.6</td>\n",
       "      <td>686.490909</td>\n",
       "      <td>0.0</td>\n",
       "      <td>9.7</td>\n",
       "      <td>6.9</td>\n",
       "      <td>1015.3</td>\n",
       "      <td>67</td>\n",
       "      <td>0</td>\n",
       "    </tr>\n",
       "    <tr>\n",
       "      <th>2681</th>\n",
       "      <td>3</td>\n",
       "      <td>327</td>\n",
       "      <td>2647.166667</td>\n",
       "      <td>175.1</td>\n",
       "      <td>701.458333</td>\n",
       "      <td>0.0</td>\n",
       "      <td>11.9</td>\n",
       "      <td>13.1</td>\n",
       "      <td>1017.0</td>\n",
       "      <td>279</td>\n",
       "      <td>0</td>\n",
       "    </tr>\n",
       "    <tr>\n",
       "      <th>2682</th>\n",
       "      <td>4</td>\n",
       "      <td>327</td>\n",
       "      <td>2648.284615</td>\n",
       "      <td>160.9</td>\n",
       "      <td>696.261538</td>\n",
       "      <td>0.0</td>\n",
       "      <td>11.2</td>\n",
       "      <td>11.5</td>\n",
       "      <td>1017.0</td>\n",
       "      <td>485</td>\n",
       "      <td>0</td>\n",
       "    </tr>\n",
       "    <tr>\n",
       "      <th>2683</th>\n",
       "      <td>5</td>\n",
       "      <td>327</td>\n",
       "      <td>2633.581818</td>\n",
       "      <td>139.2</td>\n",
       "      <td>698.881818</td>\n",
       "      <td>0.0</td>\n",
       "      <td>9.0</td>\n",
       "      <td>8.2</td>\n",
       "      <td>1015.0</td>\n",
       "      <td>652</td>\n",
       "      <td>0</td>\n",
       "    </tr>\n",
       "    <tr>\n",
       "      <th>...</th>\n",
       "      <td>...</td>\n",
       "      <td>...</td>\n",
       "      <td>...</td>\n",
       "      <td>...</td>\n",
       "      <td>...</td>\n",
       "      <td>...</td>\n",
       "      <td>...</td>\n",
       "      <td>...</td>\n",
       "      <td>...</td>\n",
       "      <td>...</td>\n",
       "      <td>...</td>\n",
       "    </tr>\n",
       "    <tr>\n",
       "      <th>3570</th>\n",
       "      <td>8</td>\n",
       "      <td>395</td>\n",
       "      <td>2534.533333</td>\n",
       "      <td>217.3</td>\n",
       "      <td>693.775000</td>\n",
       "      <td>0.0</td>\n",
       "      <td>12.6</td>\n",
       "      <td>11.3</td>\n",
       "      <td>1011.8</td>\n",
       "      <td>856</td>\n",
       "      <td>0</td>\n",
       "    </tr>\n",
       "    <tr>\n",
       "      <th>3571</th>\n",
       "      <td>9</td>\n",
       "      <td>395</td>\n",
       "      <td>2560.966667</td>\n",
       "      <td>155.5</td>\n",
       "      <td>680.283333</td>\n",
       "      <td>0.0</td>\n",
       "      <td>11.2</td>\n",
       "      <td>13.4</td>\n",
       "      <td>1013.2</td>\n",
       "      <td>772</td>\n",
       "      <td>3</td>\n",
       "    </tr>\n",
       "    <tr>\n",
       "      <th>3572</th>\n",
       "      <td>10</td>\n",
       "      <td>395</td>\n",
       "      <td>2578.127273</td>\n",
       "      <td>55.8</td>\n",
       "      <td>683.236364</td>\n",
       "      <td>0.0</td>\n",
       "      <td>11.5</td>\n",
       "      <td>11.7</td>\n",
       "      <td>1013.2</td>\n",
       "      <td>484</td>\n",
       "      <td>3</td>\n",
       "    </tr>\n",
       "    <tr>\n",
       "      <th>3573</th>\n",
       "      <td>11</td>\n",
       "      <td>395</td>\n",
       "      <td>2434.925000</td>\n",
       "      <td>19.8</td>\n",
       "      <td>696.691667</td>\n",
       "      <td>0.0</td>\n",
       "      <td>13.0</td>\n",
       "      <td>1.8</td>\n",
       "      <td>1011.7</td>\n",
       "      <td>209</td>\n",
       "      <td>0</td>\n",
       "    </tr>\n",
       "    <tr>\n",
       "      <th>3574</th>\n",
       "      <td>12</td>\n",
       "      <td>395</td>\n",
       "      <td>1442.350000</td>\n",
       "      <td>2.4</td>\n",
       "      <td>699.616667</td>\n",
       "      <td>0.0</td>\n",
       "      <td>13.0</td>\n",
       "      <td>8.1</td>\n",
       "      <td>1014.0</td>\n",
       "      <td>59</td>\n",
       "      <td>0</td>\n",
       "    </tr>\n",
       "  </tbody>\n",
       "</table>\n",
       "<p>868 rows × 11 columns</p>\n",
       "</div>"
      ],
      "text/plain": [
       "      Time  no_of_days  DC total voltage (v)  DC total current(A)  \\\n",
       "2679     1         327           2628.408333                 30.8   \n",
       "2680     2         327           2730.254545                100.6   \n",
       "2681     3         327           2647.166667                175.1   \n",
       "2682     4         327           2648.284615                160.9   \n",
       "2683     5         327           2633.581818                139.2   \n",
       "...    ...         ...                   ...                  ...   \n",
       "3570     8         395           2534.533333                217.3   \n",
       "3571     9         395           2560.966667                155.5   \n",
       "3572    10         395           2578.127273                 55.8   \n",
       "3573    11         395           2434.925000                 19.8   \n",
       "3574    12         395           1442.350000                  2.4   \n",
       "\n",
       "      AC total voltage (v)  precip  windgust  windspeed  sealevelpressure  \\\n",
       "2679            687.050000     0.0      10.1        6.2            1016.0   \n",
       "2680            686.490909     0.0       9.7        6.9            1015.3   \n",
       "2681            701.458333     0.0      11.9       13.1            1017.0   \n",
       "2682            696.261538     0.0      11.2       11.5            1017.0   \n",
       "2683            698.881818     0.0       9.0        8.2            1015.0   \n",
       "...                    ...     ...       ...        ...               ...   \n",
       "3570            693.775000     0.0      12.6       11.3            1011.8   \n",
       "3571            680.283333     0.0      11.2       13.4            1013.2   \n",
       "3572            683.236364     0.0      11.5       11.7            1013.2   \n",
       "3573            696.691667     0.0      13.0        1.8            1011.7   \n",
       "3574            699.616667     0.0      13.0        8.1            1014.0   \n",
       "\n",
       "      solarradiation  Cluster  \n",
       "2679               0        0  \n",
       "2680              67        0  \n",
       "2681             279        0  \n",
       "2682             485        0  \n",
       "2683             652        0  \n",
       "...              ...      ...  \n",
       "3570             856        0  \n",
       "3571             772        3  \n",
       "3572             484        3  \n",
       "3573             209        0  \n",
       "3574              59        0  \n",
       "\n",
       "[868 rows x 11 columns]"
      ]
     },
     "execution_count": 26,
     "metadata": {},
     "output_type": "execute_result"
    }
   ],
   "source": [
    "x_test"
   ]
  },
  {
   "cell_type": "code",
   "execution_count": 27,
   "metadata": {},
   "outputs": [
    {
     "data": {
      "text/plain": [
       "2679      1.5\n",
       "2680      6.9\n",
       "2681     16.3\n",
       "2682     23.8\n",
       "2683     30.9\n",
       "        ...  \n",
       "3570     87.9\n",
       "3571     95.9\n",
       "3572     99.0\n",
       "3573    100.0\n",
       "3574    100.0\n",
       "Name: Daily Generation (Active)(kWh), Length: 868, dtype: float64"
      ]
     },
     "execution_count": 27,
     "metadata": {},
     "output_type": "execute_result"
    }
   ],
   "source": [
    "y_test"
   ]
  },
  {
   "cell_type": "markdown",
   "metadata": {},
   "source": [
    "## Decision Tree"
   ]
  },
  {
   "cell_type": "code",
   "execution_count": 28,
   "metadata": {},
   "outputs": [],
   "source": [
    "from sklearn.tree import DecisionTreeRegressor\n",
    "dt=DecisionTreeRegressor(max_depth=3)\n",
    "dt.fit(x_train,y_train)\n",
    "y_predict1=dt.predict(x_test)"
   ]
  },
  {
   "cell_type": "code",
   "execution_count": 29,
   "metadata": {},
   "outputs": [
    {
     "name": "stdout",
     "output_type": "stream",
     "text": [
      "0.8824751128260914\n"
     ]
    }
   ],
   "source": [
    "r2_dt=r2_score(y_true=y_test,y_pred=y_predict1)\n",
    "print(r2_dt)"
   ]
  },
  {
   "cell_type": "code",
   "execution_count": 30,
   "metadata": {},
   "outputs": [
    {
     "data": {
      "text/plain": [
       "216.82319518560772"
      ]
     },
     "execution_count": 30,
     "metadata": {},
     "output_type": "execute_result"
    }
   ],
   "source": [
    "mse_dt=mean_squared_error(y_true=y_test,y_pred=y_predict1)\n",
    "mse_dt"
   ]
  },
  {
   "cell_type": "markdown",
   "metadata": {},
   "source": [
    "# Gradient Boost"
   ]
  },
  {
   "cell_type": "code",
   "execution_count": 31,
   "metadata": {},
   "outputs": [],
   "source": [
    "from sklearn.ensemble import GradientBoostingRegressor\n",
    "gb= GradientBoostingRegressor(n_estimators = 200, max_depth = 3, random_state = 1)\n",
    "gb.fit(x_train,y_train)\n",
    "y_predict2=gb.predict(x_test)"
   ]
  },
  {
   "cell_type": "code",
   "execution_count": 32,
   "metadata": {},
   "outputs": [
    {
     "name": "stdout",
     "output_type": "stream",
     "text": [
      "0.8398015317860654\n"
     ]
    }
   ],
   "source": [
    "r2_gb=r2_score(y_true=y_test,y_pred=y_predict2)\n",
    "print(r2_gb)"
   ]
  },
  {
   "cell_type": "code",
   "execution_count": 33,
   "metadata": {},
   "outputs": [
    {
     "data": {
      "text/plain": [
       "295.55224069763403"
      ]
     },
     "execution_count": 33,
     "metadata": {},
     "output_type": "execute_result"
    }
   ],
   "source": [
    "mse_gb=mean_squared_error(y_true=y_test,y_pred=y_predict2)\n",
    "mse_gb"
   ]
  },
  {
   "cell_type": "markdown",
   "metadata": {},
   "source": [
    "# XGBoost"
   ]
  },
  {
   "cell_type": "code",
   "execution_count": 34,
   "metadata": {},
   "outputs": [
    {
     "name": "stdout",
     "output_type": "stream",
     "text": [
      "[19:39:43] WARNING: C:/buildkite-agent/builds/buildkite-windows-cpu-autoscaling-group-i-03de431ba26204c4d-1/xgboost/xgboost-ci-windows/src/objective/regression_obj.cu:213: reg:linear is now deprecated in favor of reg:squarederror.\n"
     ]
    }
   ],
   "source": [
    "import xgboost as xg\n",
    "from sklearn.metrics import mean_squared_error as MSE\n",
    "xgb= xg.XGBRegressor(objective ='reg:linear',n_estimators = 10, seed = 123)\n",
    "xgb.fit(x_train, y_train)\n",
    "pred = xgb.predict(x_test)"
   ]
  },
  {
   "cell_type": "code",
   "execution_count": 35,
   "metadata": {},
   "outputs": [
    {
     "name": "stdout",
     "output_type": "stream",
     "text": [
      "0.847491034369471\n"
     ]
    }
   ],
   "source": [
    "r2_xgb=r2_score(y_true=y_test,y_pred=pred)\n",
    "print(r2_xgb)"
   ]
  },
  {
   "cell_type": "code",
   "execution_count": 36,
   "metadata": {},
   "outputs": [
    {
     "ename": "NameError",
     "evalue": "name 'np' is not defined",
     "output_type": "error",
     "traceback": [
      "\u001b[1;31m---------------------------------------------------------------------------\u001b[0m",
      "\u001b[1;31mNameError\u001b[0m                                 Traceback (most recent call last)",
      "Cell \u001b[1;32mIn [36], line 1\u001b[0m\n\u001b[1;32m----> 1\u001b[0m rmse_xgb \u001b[39m=\u001b[39m np\u001b[39m.\u001b[39msqrt(MSE(y_test, pred))\n\u001b[0;32m      2\u001b[0m \u001b[39mprint\u001b[39m(rmse_xgb)\n",
      "\u001b[1;31mNameError\u001b[0m: name 'np' is not defined"
     ]
    }
   ],
   "source": [
    "rmse_xgb = np.sqrt(MSE(y_test, pred))\n",
    "print(rmse_xgb)"
   ]
  },
  {
   "attachments": {},
   "cell_type": "markdown",
   "metadata": {},
   "source": [
    "### Solar energy prediction"
   ]
  },
  {
   "cell_type": "code",
   "execution_count": null,
   "metadata": {},
   "outputs": [],
   "source": [
    "import urllib.request\n",
    "import sys\n",
    "import pandas as pd\n",
    "        \n",
    "def get_future_weather():        \n",
    "    try: \n",
    "        ResultBytes = urllib.request.urlopen(\"https://weather.visualcrossing.com/VisualCrossingWebServices/rest/services/timeline/17.4116%2C%2078.3987/next7days?unitGroup=metric&include=hours&key=HTXNURB3NT3SGJHKHUBK63QGK&contentType=csv\")\n",
    "        \n",
    "        # Parse the results as CSV\n",
    "        CSVText = pd.read_csv(ResultBytes)\n",
    "        CSVText.to_csv('predicted_weather.csv')\n",
    "\n",
    "    except urllib.error.HTTPError  as e:\n",
    "        ErrorInfo= e.read().decode() \n",
    "        print('Error code: ', e.code, ErrorInfo)\n",
    "        sys.exit()\n",
    "    except  urllib.error.URLError as e:\n",
    "        ErrorInfo= e.read().decode() \n",
    "        print('Error code: ', e.code,ErrorInfo)"
   ]
  },
  {
   "cell_type": "code",
   "execution_count": null,
   "metadata": {},
   "outputs": [],
   "source": [
    "from datetime import time\n",
    "from sklearn.cluster import KMeans\n",
    "def get_solar_output(date):\n",
    "    pred_weather=pd.read_csv(\"predicted_weather.csv\")\n",
    "    pred_weather=pred_weather.rename(columns = {'datetime':'Time'})\n",
    "    pred_weather=obj_to_DT(pred_weather,'Time')\n",
    "    pred_weather=pred_weather[pred_weather['Time'].apply(lambda x: x.time()) < time(19,00,00)]\n",
    "    pred_weather=pred_weather[pred_weather['Time'].apply(lambda x: x.time()) > time(6,00)]\n",
    "    pred_result=[]\n",
    "    for i in range(len(pred_weather)):\n",
    "        text= pred_weather.iloc[i]\n",
    "        txt=str(text['Time'])\n",
    "        txt=txt.split(' ')\n",
    "        if(txt[0] == date):\n",
    "            pred_result.append(pred_weather.iloc[i])\n",
    "    #print(pred_result)\n",
    "\n",
    "    pred_result=pd.DataFrame(pred_result)\n",
    "    #print(pred_result)\n",
    "    pred_result['Time']= label_encoder.fit_transform(pred_result['Time'])\n",
    "    pred_result=pred_result[['Time','temp', 'dew', 'humidity', 'winddir','cloudcover', 'visibility','sealevelpressure','solarradiation']]\n",
    "    \n",
    "   \n",
    "    pred=pred_result\n",
    "    pred[\"Cluster\"]=kmeans.fit_predict(pred_result[['temp', 'dew', 'humidity', 'winddir','cloudcover', 'visibility']])\n",
    "    #print(pred)\n",
    "    \n",
    "    pred=pred.drop(['temp', 'dew', 'humidity', 'winddir','cloudcover', 'visibility'],axis=1)\n",
    "    sol=l.predict(pred)\n",
    "    print(sol[-1])"
   ]
  },
  {
   "cell_type": "code",
   "execution_count": null,
   "metadata": {},
   "outputs": [
    {
     "name": "stdout",
     "output_type": "stream",
     "text": [
      "103.29632917737808\n"
     ]
    },
    {
     "name": "stderr",
     "output_type": "stream",
     "text": [
      "C:\\Users\\vaish\\AppData\\Local\\Temp\\ipykernel_10512\\1469766945.py:2: FutureWarning: In a future version, `df.iloc[:, i] = newvals` will attempt to set the values inplace instead of always setting a new array. To retain the old behavior, use either `df[df.columns[i]] = newvals` or, if columns are non-unique, `df.isetitem(i, newvals)`\n",
      "  s.loc[:,x] = s[x].astype('string')\n"
     ]
    }
   ],
   "source": [
    "get_future_weather()\n",
    "get_solar_output('2023-02-09')"
   ]
  },
  {
   "cell_type": "markdown",
   "metadata": {},
   "source": [
    "# Comparing algorithms"
   ]
  },
  {
   "cell_type": "code",
   "execution_count": null,
   "metadata": {},
   "outputs": [
    {
     "name": "stdout",
     "output_type": "stream",
     "text": [
      "Linear regression: 82.16265843627643 %\n",
      "Decision Tree: 78.10389647117071 %\n",
      "Gradient Boost: 82.63813042877888 %\n",
      "XGBoost: 77.90137184783198 %\n"
     ]
    }
   ],
   "source": [
    "#Accuracy based on R square error\n",
    "print('Linear regression:',r2_lr*100,'%')\n",
    "print('Decision Tree:',r2_dt*100,'%')\n",
    "print('Gradient Boost:',r2_gb*100,'%')\n",
    "print('XGBoost:',r2_xgb*100,'%')"
   ]
  },
  {
   "cell_type": "code",
   "execution_count": null,
   "metadata": {},
   "outputs": [
    {
     "name": "stderr",
     "output_type": "stream",
     "text": [
      "C:\\Users\\vaish\\AppData\\Local\\Packages\\PythonSoftwareFoundation.Python.3.10_qbz5n2kfra8p0\\LocalCache\\local-packages\\Python310\\site-packages\\sklearn\\base.py:493: FutureWarning: The feature names should match those that were passed during fit. Starting version 1.2, an error will be raised.\n",
      "Feature names unseen at fit time:\n",
      "- cloudcover\n",
      "- dew\n",
      "- humidity\n",
      "- temp\n",
      "- visibility\n",
      "- ...\n",
      "Feature names seen at fit time, yet now missing:\n",
      "- Cluster\n",
      "\n",
      "  warnings.warn(message, FutureWarning)\n"
     ]
    },
    {
     "ename": "ValueError",
     "evalue": "X has 9 features, but LinearRegression is expecting 4 features as input.",
     "output_type": "error",
     "traceback": [
      "\u001b[1;31m---------------------------------------------------------------------------\u001b[0m",
      "\u001b[1;31mValueError\u001b[0m                                Traceback (most recent call last)",
      "Cell \u001b[1;32mIn [118], line 2\u001b[0m\n\u001b[0;32m      1\u001b[0m \u001b[39m#linear regression\u001b[39;00m\n\u001b[1;32m----> 2\u001b[0m y_fitted_l\u001b[39m=\u001b[39ml\u001b[39m.\u001b[39;49mpredict(X)\n\u001b[0;32m      3\u001b[0m residual_l\u001b[39m=\u001b[39my_fitted_l\u001b[39m-\u001b[39mY\n\u001b[0;32m      4\u001b[0m corr_l\u001b[39m=\u001b[39mnp\u001b[39m.\u001b[39mcorrcoef(y_fitted_l,Y)\n",
      "File \u001b[1;32m~\\AppData\\Local\\Packages\\PythonSoftwareFoundation.Python.3.10_qbz5n2kfra8p0\\LocalCache\\local-packages\\Python310\\site-packages\\sklearn\\linear_model\\_base.py:386\u001b[0m, in \u001b[0;36mLinearModel.predict\u001b[1;34m(self, X)\u001b[0m\n\u001b[0;32m    372\u001b[0m \u001b[39mdef\u001b[39;00m \u001b[39mpredict\u001b[39m(\u001b[39mself\u001b[39m, X):\n\u001b[0;32m    373\u001b[0m     \u001b[39m\"\"\"\u001b[39;00m\n\u001b[0;32m    374\u001b[0m \u001b[39m    Predict using the linear model.\u001b[39;00m\n\u001b[0;32m    375\u001b[0m \n\u001b[1;32m   (...)\u001b[0m\n\u001b[0;32m    384\u001b[0m \u001b[39m        Returns predicted values.\u001b[39;00m\n\u001b[0;32m    385\u001b[0m \u001b[39m    \"\"\"\u001b[39;00m\n\u001b[1;32m--> 386\u001b[0m     \u001b[39mreturn\u001b[39;00m \u001b[39mself\u001b[39;49m\u001b[39m.\u001b[39;49m_decision_function(X)\n",
      "File \u001b[1;32m~\\AppData\\Local\\Packages\\PythonSoftwareFoundation.Python.3.10_qbz5n2kfra8p0\\LocalCache\\local-packages\\Python310\\site-packages\\sklearn\\linear_model\\_base.py:369\u001b[0m, in \u001b[0;36mLinearModel._decision_function\u001b[1;34m(self, X)\u001b[0m\n\u001b[0;32m    366\u001b[0m \u001b[39mdef\u001b[39;00m \u001b[39m_decision_function\u001b[39m(\u001b[39mself\u001b[39m, X):\n\u001b[0;32m    367\u001b[0m     check_is_fitted(\u001b[39mself\u001b[39m)\n\u001b[1;32m--> 369\u001b[0m     X \u001b[39m=\u001b[39m \u001b[39mself\u001b[39;49m\u001b[39m.\u001b[39;49m_validate_data(X, accept_sparse\u001b[39m=\u001b[39;49m[\u001b[39m\"\u001b[39;49m\u001b[39mcsr\u001b[39;49m\u001b[39m\"\u001b[39;49m, \u001b[39m\"\u001b[39;49m\u001b[39mcsc\u001b[39;49m\u001b[39m\"\u001b[39;49m, \u001b[39m\"\u001b[39;49m\u001b[39mcoo\u001b[39;49m\u001b[39m\"\u001b[39;49m], reset\u001b[39m=\u001b[39;49m\u001b[39mFalse\u001b[39;49;00m)\n\u001b[0;32m    370\u001b[0m     \u001b[39mreturn\u001b[39;00m safe_sparse_dot(X, \u001b[39mself\u001b[39m\u001b[39m.\u001b[39mcoef_\u001b[39m.\u001b[39mT, dense_output\u001b[39m=\u001b[39m\u001b[39mTrue\u001b[39;00m) \u001b[39m+\u001b[39m \u001b[39mself\u001b[39m\u001b[39m.\u001b[39mintercept_\n",
      "File \u001b[1;32m~\\AppData\\Local\\Packages\\PythonSoftwareFoundation.Python.3.10_qbz5n2kfra8p0\\LocalCache\\local-packages\\Python310\\site-packages\\sklearn\\base.py:600\u001b[0m, in \u001b[0;36mBaseEstimator._validate_data\u001b[1;34m(self, X, y, reset, validate_separately, **check_params)\u001b[0m\n\u001b[0;32m    597\u001b[0m     out \u001b[39m=\u001b[39m X, y\n\u001b[0;32m    599\u001b[0m \u001b[39mif\u001b[39;00m \u001b[39mnot\u001b[39;00m no_val_X \u001b[39mand\u001b[39;00m check_params\u001b[39m.\u001b[39mget(\u001b[39m\"\u001b[39m\u001b[39mensure_2d\u001b[39m\u001b[39m\"\u001b[39m, \u001b[39mTrue\u001b[39;00m):\n\u001b[1;32m--> 600\u001b[0m     \u001b[39mself\u001b[39;49m\u001b[39m.\u001b[39;49m_check_n_features(X, reset\u001b[39m=\u001b[39;49mreset)\n\u001b[0;32m    602\u001b[0m \u001b[39mreturn\u001b[39;00m out\n",
      "File \u001b[1;32m~\\AppData\\Local\\Packages\\PythonSoftwareFoundation.Python.3.10_qbz5n2kfra8p0\\LocalCache\\local-packages\\Python310\\site-packages\\sklearn\\base.py:400\u001b[0m, in \u001b[0;36mBaseEstimator._check_n_features\u001b[1;34m(self, X, reset)\u001b[0m\n\u001b[0;32m    397\u001b[0m     \u001b[39mreturn\u001b[39;00m\n\u001b[0;32m    399\u001b[0m \u001b[39mif\u001b[39;00m n_features \u001b[39m!=\u001b[39m \u001b[39mself\u001b[39m\u001b[39m.\u001b[39mn_features_in_:\n\u001b[1;32m--> 400\u001b[0m     \u001b[39mraise\u001b[39;00m \u001b[39mValueError\u001b[39;00m(\n\u001b[0;32m    401\u001b[0m         \u001b[39mf\u001b[39m\u001b[39m\"\u001b[39m\u001b[39mX has \u001b[39m\u001b[39m{\u001b[39;00mn_features\u001b[39m}\u001b[39;00m\u001b[39m features, but \u001b[39m\u001b[39m{\u001b[39;00m\u001b[39mself\u001b[39m\u001b[39m.\u001b[39m\u001b[39m__class__\u001b[39m\u001b[39m.\u001b[39m\u001b[39m__name__\u001b[39m\u001b[39m}\u001b[39;00m\u001b[39m \u001b[39m\u001b[39m\"\u001b[39m\n\u001b[0;32m    402\u001b[0m         \u001b[39mf\u001b[39m\u001b[39m\"\u001b[39m\u001b[39mis expecting \u001b[39m\u001b[39m{\u001b[39;00m\u001b[39mself\u001b[39m\u001b[39m.\u001b[39mn_features_in_\u001b[39m}\u001b[39;00m\u001b[39m features as input.\u001b[39m\u001b[39m\"\u001b[39m\n\u001b[0;32m    403\u001b[0m     )\n",
      "\u001b[1;31mValueError\u001b[0m: X has 9 features, but LinearRegression is expecting 4 features as input."
     ]
    }
   ],
   "source": [
    "#linear regression\n",
    "y_fitted_l=l.predict(X)\n",
    "residual_l=y_fitted_l-Y\n",
    "corr_l=np.corrcoef(y_fitted_l,Y)\n",
    "print('correlation coefficient: ',corr_l[0,1])"
   ]
  },
  {
   "cell_type": "code",
   "execution_count": null,
   "metadata": {},
   "outputs": [
    {
     "name": "stdout",
     "output_type": "stream",
     "text": [
      "correlation coefficient:  0.8981096637466299\n"
     ]
    }
   ],
   "source": [
    "#decision tree\n",
    "y_fitted_dt=dt.predict(X)\n",
    "residual_dt=y_fitted_dt-Y\n",
    "corr_dt=np.corrcoef(y_fitted_dt,Y)\n",
    "print('correlation coefficient: ',corr_dt[0,1])"
   ]
  },
  {
   "cell_type": "code",
   "execution_count": null,
   "metadata": {},
   "outputs": [
    {
     "name": "stdout",
     "output_type": "stream",
     "text": [
      "correlation coefficient:  0.9365470687460393\n"
     ]
    }
   ],
   "source": [
    "#gradient boost\n",
    "y_fitted_gb=gb.predict(X)\n",
    "residual_gb=y_fitted_gb-Y\n",
    "corr_gb=np.corrcoef(y_fitted_gb,Y)\n",
    "print('correlation coefficient: ',corr_gb[0,1])"
   ]
  },
  {
   "cell_type": "code",
   "execution_count": null,
   "metadata": {},
   "outputs": [
    {
     "name": "stdout",
     "output_type": "stream",
     "text": [
      "correlation coefficient:  0.9368046176543018\n"
     ]
    }
   ],
   "source": [
    "#xgboost\n",
    "y_fitted_xgb=xgb.predict(X)\n",
    "residual_xgb=y_fitted_xgb-Y\n",
    "corr_xgb=np.corrcoef(y_fitted_xgb,Y)\n",
    "print('correlation coefficient: ',corr_xgb[0,1])"
   ]
  },
  {
   "cell_type": "code",
   "execution_count": null,
   "metadata": {},
   "outputs": [
    {
     "data": {
      "image/png": "[encoded data removed]",
      "text/plain": [
       "<Figure size 432x288 with 1 Axes>"
      ]
     },
     "metadata": {
      "needs_background": "light"
     },
     "output_type": "display_data"
    }
   ],
   "source": [
    "fig, ax = plt.subplots()\n",
    "ax.hist(residual_l, bins=100, color=\"black\", label='Linear Regression', histtype='step')\n",
    "ax.hist(residual_dt, bins=100, color=\"red\", label='Decision Tree', histtype='step')\n",
    "ax.hist(residual_gb, bins=100, color=\"blue\", label='Gradient Boost', histtype='step')\n",
    "ax.hist(residual_xgb, bins=100, color=\"green\", label='XGBoost', histtype='step')\n",
    "ax.set_xlabel('Residual')\n",
    "ax.set_ylabel('frequency')\n",
    "ax.legend(loc='upper right')\n",
    "ax.grid(True)\n",
    "fig.tight_layout()\n",
    "plt.rcParams[\"figure.figsize\"] = [6,4]\n",
    "plt.show()"
   ]
  },
  {
   "cell_type": "markdown",
   "metadata": {},
   "source": [
    "# Predicting output"
   ]
  }
 ],
 "metadata": {
  "kernelspec": {
   "display_name": "Python 3",
   "language": "python",
   "name": "python3"
  },
  "language_info": {
   "codemirror_mode": {
    "name": "ipython",
    "version": 3
   },
   "file_extension": ".py",
   "mimetype": "text/x-python",
   "name": "python",
   "nbconvert_exporter": "python",
   "pygments_lexer": "ipython3",
   "version": "3.10.10"
  },
  "vscode": {
   "interpreter": {
    "hash": "a948cc73775d2840a24a4d541dc2edebbd76a6732a9fe754de12225d66d842c9"
   }
  }
 },
 "nbformat": 4,
 "nbformat_minor": 2
}
